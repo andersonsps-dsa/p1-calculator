{
 "cells": [
  {
   "cell_type": "code",
   "execution_count": null,
   "metadata": {},
   "outputs": [],
   "source": [
    "print('⁂⁂⁂⁂⁂⁂⁂⁂⁂⁂⁂⁂ CALCULADORA EM PYTHON VERSÃO 1 ⁂⁂⁂⁂⁂⁂⁂⁂⁂⁂⁂⁂')\n",
    "\n",
    "x = float(input('Digite o número: '))\n",
    "y = float(input('Digite o número: '))\n",
    "\n",
    "operation = input('Digite a letra confome explicado a seguir: \\n\\n[a] - Soma \\n[b] - Subtração \\n[c] - Multiplicação \\n[d]  - Divisão')\n",
    "print('⁂ Segue seu resultado: \\n')\n",
    "\n",
    "for oper in operation:\n",
    "    if  oper == 'a':\n",
    "        print('👌 Soma %r + %r =' %(x,y), x+y)\n",
    "    elif oper == 'b':\n",
    "        print('👌 Subtração %r - %r =' %(x,y), x-y)\n",
    "    elif oper == 'c':\n",
    "        print('👌 Multiplicação %r * %r =' %(x,y), x*y)\n",
    "    elif oper == 'd':\n",
    "        if y != 0:\n",
    "            print('👌 Divisão %r / %r =' %(x,y), x/y)\n",
    "        else:\n",
    "            print('⛔ Erro! Não é possível realizar divisão por zero.')\n",
    "    else:\n",
    "        print('⛔ Erro! \\nDigite alguma letra conforme a seguite lista: \\n\\n[a] - Soma \\n[b] - Subtração \\n[c] - Multiplicação \\n[d]  - Divisão')"
   ]
  }
 ],
 "metadata": {
  "kernelspec": {
   "display_name": "base",
   "language": "python",
   "name": "python3"
  },
  "language_info": {
   "codemirror_mode": {
    "name": "ipython",
    "version": 3
   },
   "file_extension": ".py",
   "mimetype": "text/x-python",
   "name": "python",
   "nbconvert_exporter": "python",
   "pygments_lexer": "ipython3",
   "version": "3.11.5"
  }
 },
 "nbformat": 4,
 "nbformat_minor": 2
}
